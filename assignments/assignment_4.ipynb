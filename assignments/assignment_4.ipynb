{
 "cells": [
  {
   "cell_type": "markdown",
   "id": "6cf82d65-3454-49d6-a56f-96c2a35daf9c",
   "metadata": {},
   "source": [
    "# Assignment 4: Introduction to Git/Github"
   ]
  },
  {
   "cell_type": "markdown",
   "id": "0ee00b18-c195-4785-a23b-ac344e128614",
   "metadata": {},
   "source": [
    "## Overview\n",
    "\n",
    "Knowing how to collaborate in a Github setting is incredibly important to get practice with. In this assignment, we will be creating a pull request into a repository with a text file that has your name in it. Let's get started!"
   ]
  },
  {
   "cell_type": "markdown",
   "id": "8777adc4-0021-4a26-983b-424bda0d4492",
   "metadata": {},
   "source": [
    "### Question 1"
   ]
  },
  {
   "cell_type": "markdown",
   "id": "e3c55811-b35c-495c-9d60-958e5da3b2be",
   "metadata": {},
   "source": [
    "Go to the following repository with your web browser: https://github.com/stefannelson/MINDS_Assignment_4\n",
    "\n",
    "Click on fork to add a copy of this repository to your Github account. \n",
    "\n",
    "In Github Desktop, click the dropdown in the top left hand corner where your current repository is listed. Click on the add button, then \"Clone Repository.\" In this case, cloning just means copying it down to your local computer. \n",
    "\n",
    "Click to the tab that says URL. Copy and paste the url of your forked MINDS_Assignment_4 repository (the one connected to your account) and hit clone!\n",
    "\n"
   ]
  },
  {
   "cell_type": "markdown",
   "id": "272cd5eb",
   "metadata": {},
   "source": [
    "### Question 2"
   ]
  },
  {
   "cell_type": "markdown",
   "id": "9192a94b",
   "metadata": {},
   "source": [
    "Make a new file in the local version of the repository called `<your_name>.ipynb`. Inside, write some python code of your choice (for example, make a function that checks if a number is even). Remember to save! "
   ]
  },
  {
   "cell_type": "markdown",
   "id": "263440fd",
   "metadata": {},
   "source": [
    "### Question 3"
   ]
  },
  {
   "cell_type": "markdown",
   "id": "545d99db",
   "metadata": {},
   "source": [
    "In Github Desktop, commit the change using a meaningful commit name. Push the changes to Github!"
   ]
  },
  {
   "cell_type": "markdown",
   "id": "82b45c9d",
   "metadata": {},
   "source": [
    "### Question 4"
   ]
  },
  {
   "cell_type": "markdown",
   "id": "50f0bb40",
   "metadata": {},
   "source": [
    "Go back to your forked repository in your web browser and confirm that the changes you made show up after reloading the page. On the line of buttons labelled \"Code\" \"Pull Requests\" \"Actions\" etc., click on \"Pull Requests\" then \"New Pull Request.\" The next page has info about what timeline is being merged where - in this case `stefannelson/MINDS_Assignment_4` is on the left since it's the parent repository, and your branch is the one pointing to the parent repository! Hit the green \"Create Pull Request\", and then again to publish your pull request. Great work!"
   ]
  },
  {
   "cell_type": "markdown",
   "id": "05626698",
   "metadata": {},
   "source": []
  }
 ],
 "metadata": {
  "kernelspec": {
   "display_name": "Python 3.9.6 64-bit",
   "language": "python",
   "name": "python3"
  },
  "language_info": {
   "codemirror_mode": {
    "name": "ipython",
    "version": 3
   },
   "file_extension": ".py",
   "mimetype": "text/x-python",
   "name": "python",
   "nbconvert_exporter": "python",
   "pygments_lexer": "ipython3",
   "version": "3.9.6"
  },
  "vscode": {
   "interpreter": {
    "hash": "31f2aee4e71d21fbe5cf8b01ff0e069b9275f58929596ceb00d14d90e3e16cd6"
   }
  }
 },
 "nbformat": 4,
 "nbformat_minor": 5
}
