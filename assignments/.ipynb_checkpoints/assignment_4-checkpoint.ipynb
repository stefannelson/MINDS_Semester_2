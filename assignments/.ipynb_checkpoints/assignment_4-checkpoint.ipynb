{
 "cells": [
  {
   "cell_type": "markdown",
   "id": "6cf82d65-3454-49d6-a56f-96c2a35daf9c",
   "metadata": {},
   "source": [
    "# Assignment 4: Introduction to Git/Github"
   ]
  },
  {
   "cell_type": "markdown",
   "id": "0ee00b18-c195-4785-a23b-ac344e128614",
   "metadata": {},
   "source": [
    "## Overview"
   ]
  },
  {
   "cell_type": "markdown",
   "id": "8777adc4-0021-4a26-983b-424bda0d4492",
   "metadata": {},
   "source": [
    "### Question 1"
   ]
  },
  {
   "cell_type": "code",
   "execution_count": null,
   "id": "e3c55811-b35c-495c-9d60-958e5da3b2be",
   "metadata": {},
   "outputs": [],
   "source": []
  }
 ],
 "metadata": {
  "kernelspec": {
   "display_name": "Python 3",
   "language": "python",
   "name": "python3"
  },
  "language_info": {
   "codemirror_mode": {
    "name": "ipython",
    "version": 3
   },
   "file_extension": ".py",
   "mimetype": "text/x-python",
   "name": "python",
   "nbconvert_exporter": "python",
   "pygments_lexer": "ipython3",
   "version": "3.8.8"
  }
 },
 "nbformat": 4,
 "nbformat_minor": 5
}
