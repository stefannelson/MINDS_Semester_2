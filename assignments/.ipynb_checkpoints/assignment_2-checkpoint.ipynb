{
 "cells": [
  {
   "cell_type": "markdown",
   "id": "efbb4317-8608-4c13-ba58-425537d838e7",
   "metadata": {},
   "source": [
    "# Assignment 2: Introduction to SQL"
   ]
  },
  {
   "cell_type": "markdown",
   "id": "58cd559f-d05f-47b8-9d63-ce554db5f7b4",
   "metadata": {},
   "source": [
    "## Overview"
   ]
  },
  {
   "cell_type": "markdown",
   "id": "79c010c0-8949-4019-aff0-17d4c73ad27f",
   "metadata": {},
   "source": [
    "### Question 0"
   ]
  },
  {
   "cell_type": "code",
   "execution_count": null,
   "id": "248ba378-0423-4eb4-a762-98c78b96d75d",
   "metadata": {},
   "outputs": [],
   "source": []
  }
 ],
 "metadata": {
  "kernelspec": {
   "display_name": "Python 3",
   "language": "python",
   "name": "python3"
  },
  "language_info": {
   "codemirror_mode": {
    "name": "ipython",
    "version": 3
   },
   "file_extension": ".py",
   "mimetype": "text/x-python",
   "name": "python",
   "nbconvert_exporter": "python",
   "pygments_lexer": "ipython3",
   "version": "3.8.8"
  }
 },
 "nbformat": 4,
 "nbformat_minor": 5
}
