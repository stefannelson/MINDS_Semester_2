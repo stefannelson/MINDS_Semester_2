{
 "cells": [
  {
   "cell_type": "markdown",
   "id": "1935fd75-4924-4e2d-9c0d-6fddaf7132c4",
   "metadata": {},
   "source": [
    "# Assignment 1: Regularization and Linear Regression Review"
   ]
  },
  {
   "cell_type": "markdown",
   "id": "0e2b2d87-91fe-4e43-acb8-4d87c5ecfb7c",
   "metadata": {},
   "source": [
    "## Overview"
   ]
  },
  {
   "cell_type": "markdown",
   "id": "7903b895-48c1-4a77-8ca6-32d295e95b51",
   "metadata": {},
   "source": [
    "### Question 0"
   ]
  },
  {
   "cell_type": "code",
   "execution_count": null,
   "id": "12374841-9801-47b0-94ba-cadf18fcf10f",
   "metadata": {},
   "outputs": [],
   "source": []
  },
  {
   "cell_type": "code",
   "execution_count": null,
   "id": "0ec18bce-e391-414a-a23e-4d97f27845dd",
   "metadata": {},
   "outputs": [],
   "source": []
  }
 ],
 "metadata": {
  "kernelspec": {
   "display_name": "Python 3",
   "language": "python",
   "name": "python3"
  },
  "language_info": {
   "codemirror_mode": {
    "name": "ipython",
    "version": 3
   },
   "file_extension": ".py",
   "mimetype": "text/x-python",
   "name": "python",
   "nbconvert_exporter": "python",
   "pygments_lexer": "ipython3",
   "version": "3.8.8"
  }
 },
 "nbformat": 4,
 "nbformat_minor": 5
}
