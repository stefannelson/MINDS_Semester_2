{
 "cells": [
  {
   "cell_type": "markdown",
   "id": "858a06d1-b0f5-4089-82cc-676170aa4743",
   "metadata": {},
   "source": [
    "# Assignment 3: SQL and Pandas"
   ]
  },
  {
   "cell_type": "markdown",
   "id": "9ab0d408-c5df-4425-a4f3-0b3c9612712f",
   "metadata": {},
   "source": [
    "## Overview"
   ]
  },
  {
   "cell_type": "markdown",
   "id": "d21b9092-2912-4c75-ba96-e1baf0b25e5d",
   "metadata": {},
   "source": [
    "### Question 0"
   ]
  },
  {
   "cell_type": "code",
   "execution_count": null,
   "id": "3459e77c-0050-431a-b338-567d06d85096",
   "metadata": {},
   "outputs": [],
   "source": []
  }
 ],
 "metadata": {
  "kernelspec": {
   "display_name": "Python 3.9.6 64-bit",
   "language": "python",
   "name": "python3"
  },
  "language_info": {
   "codemirror_mode": {
    "name": "ipython",
    "version": 3
   },
   "file_extension": ".py",
   "mimetype": "text/x-python",
   "name": "python",
   "nbconvert_exporter": "python",
   "pygments_lexer": "ipython3",
   "version": "3.9.6"
  },
  "vscode": {
   "interpreter": {
    "hash": "31f2aee4e71d21fbe5cf8b01ff0e069b9275f58929596ceb00d14d90e3e16cd6"
   }
  }
 },
 "nbformat": 4,
 "nbformat_minor": 5
}
