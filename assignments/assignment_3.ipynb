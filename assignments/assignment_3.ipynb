{
 "cells": [
  {
   "cell_type": "markdown",
   "id": "858a06d1-b0f5-4089-82cc-676170aa4743",
   "metadata": {},
   "source": [
    "# Assignment 3: SQL and Pandas"
   ]
  },
  {
   "cell_type": "markdown",
   "id": "9ab0d408-c5df-4425-a4f3-0b3c9612712f",
   "metadata": {},
   "source": [
    "## Overview\n",
    "\n",
    "Like Assignment 2, we will be using the Chinook database, this time focusing more on the sales side of the music store."
   ]
  },
  {
   "cell_type": "markdown",
   "id": "d21b9092-2912-4c75-ba96-e1baf0b25e5d",
   "metadata": {},
   "source": [
    "### Question 0"
   ]
  },
  {
   "cell_type": "markdown",
   "id": "3459e77c-0050-431a-b338-567d06d85096",
   "metadata": {},
   "source": [
    "Set up your connection and cursor for `sqlite3`."
   ]
  },
  {
   "cell_type": "code",
   "execution_count": null,
   "id": "101b15cf",
   "metadata": {},
   "outputs": [],
   "source": []
  },
  {
   "cell_type": "markdown",
   "id": "e2a3232a",
   "metadata": {},
   "source": [
    "### Question 1"
   ]
  },
  {
   "cell_type": "markdown",
   "id": "1d4589cf",
   "metadata": {},
   "source": [
    "Using `pandas`' built-in function `read_sql_query(query, connection)`, query the entire Customer and Invoice tables, merging by CustomerId."
   ]
  },
  {
   "cell_type": "code",
   "execution_count": null,
   "id": "03e4ba65",
   "metadata": {},
   "outputs": [],
   "source": []
  },
  {
   "cell_type": "markdown",
   "id": "b36a7ddc",
   "metadata": {},
   "source": [
    "### Question 2"
   ]
  },
  {
   "cell_type": "markdown",
   "id": "112600fc",
   "metadata": {},
   "source": [
    "Using sqldf, query a new DataFrame containing only the CustomerId, FirstName, LastName, InvoiceDate, and Total. **Drop any invoices before 2010**. Remember, when using an existing pandas DataFrame, you're query FROM the variable name, not the tables from previously.  "
   ]
  },
  {
   "cell_type": "code",
   "execution_count": null,
   "id": "ac181d6a",
   "metadata": {},
   "outputs": [],
   "source": []
  },
  {
   "cell_type": "markdown",
   "id": "eacd688a",
   "metadata": {},
   "source": [
    "## Question 3"
   ]
  },
  {
   "cell_type": "markdown",
   "id": "c3df058c",
   "metadata": {},
   "source": [
    "We now have a simplified list of invoices containing only name, id, date, and total. Let's figure out how much every has spent since 2010! Recall that pandas has the `groupby()` function (documentation [here](https://pandas.pydata.org/docs/reference/api/pandas.DataFrame.groupby.html)). Using this, make a new DataFrame grouping by the CustomerId, giving the total/sum for each. "
   ]
  },
  {
   "cell_type": "code",
   "execution_count": null,
   "id": "7e181e4b",
   "metadata": {},
   "outputs": [],
   "source": []
  },
  {
   "cell_type": "markdown",
   "id": "3265bbcf",
   "metadata": {},
   "source": [
    "### Question 4"
   ]
  },
  {
   "cell_type": "markdown",
   "id": "287ca149",
   "metadata": {},
   "source": [
    "Turns out, the pandas `groupby()` statement has an equivalent in SQL! Putting \n",
    "\n",
    "`GROUP BY <Table Name>.<Column Name>`\n",
    "\n",
    "at the end of a query plus the keyword `SUM()` around the column you're grouping by creates a very similar table to the one we made in pandas!\n",
    "\n",
    "Use what we've learned to query a table with FirstName, LastName, and SUM(Total). Do the results match what we did in pandas?"
   ]
  },
  {
   "cell_type": "code",
   "execution_count": null,
   "id": "42255b0a",
   "metadata": {},
   "outputs": [],
   "source": []
  }
 ],
 "metadata": {
  "kernelspec": {
   "display_name": "Python 3.8.8 ('base')",
   "language": "python",
   "name": "python3"
  },
  "language_info": {
   "codemirror_mode": {
    "name": "ipython",
    "version": 3
   },
   "file_extension": ".py",
   "mimetype": "text/x-python",
   "name": "python",
   "nbconvert_exporter": "python",
   "pygments_lexer": "ipython3",
   "version": "3.8.8"
  },
  "vscode": {
   "interpreter": {
    "hash": "def417fe0c83c42064742c17941153771078883a650ad52a747296f1f73eeaa0"
   }
  }
 },
 "nbformat": 4,
 "nbformat_minor": 5
}
