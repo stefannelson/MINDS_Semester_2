{
 "cells": [
  {
   "cell_type": "markdown",
   "id": "efbb4317-8608-4c13-ba58-425537d838e7",
   "metadata": {},
   "source": [
    "# Assignment 2: Introduction to SQL"
   ]
  },
  {
   "cell_type": "markdown",
   "id": "58cd559f-d05f-47b8-9d63-ce554db5f7b4",
   "metadata": {},
   "source": [
    "## Overview\n",
    "\n",
    "The bread and butter of utilizing SQL is writing queries. In this assignment, we will be using the Chinook database, which is data containing data from a music store. More information can be found [here](https://github.com/lerocha/chinook-database)."
   ]
  },
  {
   "cell_type": "markdown",
   "id": "79c010c0-8949-4019-aff0-17d4c73ad27f",
   "metadata": {},
   "source": [
    "### Question 0"
   ]
  },
  {
   "cell_type": "markdown",
   "id": "09f3706f",
   "metadata": {},
   "source": [
    "Load in any necessary python modules, then connect to the `chinook.sqlite` database file."
   ]
  },
  {
   "cell_type": "code",
   "execution_count": null,
   "id": "3226de28",
   "metadata": {},
   "outputs": [],
   "source": []
  },
  {
   "cell_type": "markdown",
   "id": "d5d88706",
   "metadata": {},
   "source": [
    "Next, run this code cell to output every table name and corresponding column name in the database to confirm that the imports are functioning correctly."
   ]
  },
  {
   "cell_type": "code",
   "execution_count": 28,
   "id": "5573fb48",
   "metadata": {},
   "outputs": [
    {
     "name": "stdout",
     "output_type": "stream",
     "text": [
      "Album\n",
      "['AlbumId', 'Title', 'ArtistId']\n",
      "Artist\n",
      "['ArtistId', 'Name']\n",
      "Customer\n",
      "['CustomerId', 'FirstName', 'LastName', 'Company', 'Address', 'City', 'State', 'Country', 'PostalCode', 'Phone', 'Fax', 'Email', 'SupportRepId']\n",
      "Employee\n",
      "['EmployeeId', 'LastName', 'FirstName', 'Title', 'ReportsTo', 'BirthDate', 'HireDate', 'Address', 'City', 'State', 'Country', 'PostalCode', 'Phone', 'Fax', 'Email']\n",
      "Genre\n",
      "['GenreId', 'Name']\n",
      "Invoice\n",
      "['InvoiceId', 'CustomerId', 'InvoiceDate', 'BillingAddress', 'BillingCity', 'BillingState', 'BillingCountry', 'BillingPostalCode', 'Total']\n",
      "InvoiceLine\n",
      "['InvoiceLineId', 'InvoiceId', 'TrackId', 'UnitPrice', 'Quantity']\n",
      "MediaType\n",
      "['MediaTypeId', 'Name']\n",
      "Playlist\n",
      "['PlaylistId', 'Name']\n",
      "PlaylistTrack\n",
      "['PlaylistId', 'TrackId']\n",
      "Track\n",
      "['TrackId', 'Name', 'AlbumId', 'MediaTypeId', 'GenreId', 'Composer', 'Milliseconds', 'Bytes', 'UnitPrice']\n"
     ]
    }
   ],
   "source": [
    "def output_tables_and_labels():\n",
    "    # This function pulls the table names from sqlite, then outputs \n",
    "    # the column name for each, removing all unecessary information\n",
    "    \n",
    "    cursor.execute(\"SELECT name FROM sqlite_master WHERE type='table';\")\n",
    "    table_names = pd.DataFrame(cursor.fetchall())\n",
    "    for i in table_names[0]:\n",
    "        print(i)\n",
    "        cursor.execute(\"PRAGMA table_info(\"+str(i)+\")\")\n",
    "        print(list(pd.DataFrame(cursor.fetchall())[1]))\n",
    "\n",
    "output_tables_and_labels()"
   ]
  },
  {
   "cell_type": "markdown",
   "id": "5c883f7b",
   "metadata": {},
   "source": [
    "### Question 1"
   ]
  },
  {
   "cell_type": "markdown",
   "id": "1f44e4e1",
   "metadata": {},
   "source": [
    "Print out all columns of the \"Track\" table."
   ]
  },
  {
   "cell_type": "code",
   "execution_count": null,
   "id": "efb0015a",
   "metadata": {},
   "outputs": [],
   "source": []
  },
  {
   "cell_type": "markdown",
   "id": "d9d6b4ac",
   "metadata": {},
   "source": [
    "### Question 2"
   ]
  },
  {
   "cell_type": "markdown",
   "id": "ad882aae",
   "metadata": {},
   "source": [
    "Print out all of the \"short\" songs from the \"Track\" table - tracks under 180000 milliseconds (or 3 minutes). Only print the Name and Milliseconds colunms."
   ]
  },
  {
   "cell_type": "code",
   "execution_count": null,
   "id": "5788b371",
   "metadata": {},
   "outputs": [],
   "source": []
  },
  {
   "cell_type": "markdown",
   "id": "101c8386",
   "metadata": {},
   "source": [
    "### Question 3"
   ]
  },
  {
   "cell_type": "markdown",
   "id": "55ff20d3",
   "metadata": {},
   "source": [
    "Using the Album and Artist tables, print out the columns for an album and its artist's name. \n",
    "\n",
    "**HINT**: What column do Album and Artist share?"
   ]
  },
  {
   "cell_type": "code",
   "execution_count": null,
   "id": "abf14707",
   "metadata": {},
   "outputs": [],
   "source": []
  },
  {
   "cell_type": "markdown",
   "id": "306acb81",
   "metadata": {},
   "source": [
    "### Question 4"
   ]
  },
  {
   "cell_type": "markdown",
   "id": "590e74d9",
   "metadata": {},
   "source": [
    "Finally, let's make a table that contains the album name, artist name, track name, and genre name. Feel free to use the answer to question 3 as a baseline here. This is tricky, so don't be afraid to ask your mentor for help!"
   ]
  },
  {
   "cell_type": "code",
   "execution_count": null,
   "id": "8ee71c3d",
   "metadata": {},
   "outputs": [],
   "source": []
  }
 ],
 "metadata": {
  "kernelspec": {
   "display_name": "Python 3.8.8 ('base')",
   "language": "python",
   "name": "python3"
  },
  "language_info": {
   "codemirror_mode": {
    "name": "ipython",
    "version": 3
   },
   "file_extension": ".py",
   "mimetype": "text/x-python",
   "name": "python",
   "nbconvert_exporter": "python",
   "pygments_lexer": "ipython3",
   "version": "3.8.8"
  },
  "vscode": {
   "interpreter": {
    "hash": "def417fe0c83c42064742c17941153771078883a650ad52a747296f1f73eeaa0"
   }
  }
 },
 "nbformat": 4,
 "nbformat_minor": 5
}
