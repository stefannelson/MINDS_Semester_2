{
 "cells": [
  {
   "cell_type": "markdown",
   "id": "efbb4317-8608-4c13-ba58-425537d838e7",
   "metadata": {},
   "source": [
    "# Assignment 2: Introduction to SQL"
   ]
  },
  {
   "cell_type": "markdown",
   "id": "58cd559f-d05f-47b8-9d63-ce554db5f7b4",
   "metadata": {},
   "source": [
    "## Overview\n",
    "\n",
    "The bread and butter of utilizing SQL is writing queries. "
   ]
  },
  {
   "cell_type": "markdown",
   "id": "79c010c0-8949-4019-aff0-17d4c73ad27f",
   "metadata": {},
   "source": [
    "### Question 0"
   ]
  },
  {
   "cell_type": "code",
   "execution_count": null,
   "id": "248ba378-0423-4eb4-a762-98c78b96d75d",
   "metadata": {},
   "outputs": [],
   "source": []
  }
 ],
 "metadata": {
  "kernelspec": {
   "display_name": "Python 3.9.6 64-bit",
   "language": "python",
   "name": "python3"
  },
  "language_info": {
   "codemirror_mode": {
    "name": "ipython",
    "version": 3
   },
   "file_extension": ".py",
   "mimetype": "text/x-python",
   "name": "python",
   "nbconvert_exporter": "python",
   "pygments_lexer": "ipython3",
   "version": "3.9.6"
  },
  "vscode": {
   "interpreter": {
    "hash": "31f2aee4e71d21fbe5cf8b01ff0e069b9275f58929596ceb00d14d90e3e16cd6"
   }
  }
 },
 "nbformat": 4,
 "nbformat_minor": 5
}
