{
 "cells": [
  {
   "cell_type": "markdown",
   "id": "be1ac976-de35-4116-a02a-92f36aefc87c",
   "metadata": {},
   "source": [
    "# Module 2: Introduction to SQL"
   ]
  },
  {
   "cell_type": "code",
   "execution_count": null,
   "id": "dcde005c-beae-4751-b33e-8131b5ac7db5",
   "metadata": {},
   "outputs": [],
   "source": []
  }
 ],
 "metadata": {
  "kernelspec": {
   "display_name": "Python 3",
   "language": "python",
   "name": "python3"
  },
  "language_info": {
   "codemirror_mode": {
    "name": "ipython",
    "version": 3
   },
   "file_extension": ".py",
   "mimetype": "text/x-python",
   "name": "python",
   "nbconvert_exporter": "python",
   "pygments_lexer": "ipython3",
   "version": "3.8.8"
  }
 },
 "nbformat": 4,
 "nbformat_minor": 5
}
