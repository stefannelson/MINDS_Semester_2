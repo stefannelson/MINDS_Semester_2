{
 "cells": [
  {
   "cell_type": "markdown",
   "id": "3c16ec87-d878-4cdb-9034-2c287180fb3e",
   "metadata": {},
   "source": [
    "# Module 3: SQL in Pandas"
   ]
  },
  {
   "cell_type": "code",
   "execution_count": null,
   "id": "a85686ea-2250-4c01-93d5-7d0dd94965ff",
   "metadata": {},
   "outputs": [],
   "source": []
  }
 ],
 "metadata": {
  "kernelspec": {
   "display_name": "Python 3",
   "language": "python",
   "name": "python3"
  },
  "language_info": {
   "codemirror_mode": {
    "name": "ipython",
    "version": 3
   },
   "file_extension": ".py",
   "mimetype": "text/x-python",
   "name": "python",
   "nbconvert_exporter": "python",
   "pygments_lexer": "ipython3",
   "version": "3.8.8"
  }
 },
 "nbformat": 4,
 "nbformat_minor": 5
}
