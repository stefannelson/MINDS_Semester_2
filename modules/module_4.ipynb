{
 "cells": [
  {
   "cell_type": "markdown",
   "id": "0531f94d-f6e7-4b10-9fd2-410c649c66da",
   "metadata": {},
   "source": [
    "# Module 4: Introduction to Git/Github"
   ]
  },
  {
   "cell_type": "markdown",
   "id": "a3654b29",
   "metadata": {},
   "source": [
    "In the weeks that we have spent learning Python and now SQL, we have been creating a *stack* of tools that we can bring to a job. SQL allows us to query data from a database, and Python scripts allow us to transform and perform analyses on data. These skills/tools are incredibly powerful, but writing code for a job that needs to be used and improved for years to come, some issues begin to pop up:\n",
    "1. What happens if you are adding something in your code, something goes wrong, and you need to go back to a previous version?\n",
    "2. What happens if you if you are working on a big project with other programmers? How do you collaborate?\n",
    "\n",
    "You could have a system where you send files back and forth with each other, but 1) you are always waiting for someone's else's work and 2) after even a couple of days, there would be *so many files*, from `Final.doc` to `Final_rev2_with_comments_and_new_corrections.doc`. As a result, people who develop software have relyed on **version control** systems, the most popular of which is `git`.\n",
    "\n",
    "In a nutshell, git is behind-the-scenes software creating a timeline of which files in a folder were changed, by who, when, and what changed. These pieces of information form a **commit**, each of which can be reverted back to. "
   ]
  },
  {
   "cell_type": "markdown",
   "id": "00c2c658-e4be-42bd-af69-130b5fc0dd92",
   "metadata": {},
   "source": [
    "First, let's download Github Desktop here: https://desktop.github.com/\n",
    "\n"
   ]
  }
 ],
 "metadata": {
  "kernelspec": {
   "display_name": "Python 3.9.6 64-bit",
   "language": "python",
   "name": "python3"
  },
  "language_info": {
   "codemirror_mode": {
    "name": "ipython",
    "version": 3
   },
   "file_extension": ".py",
   "mimetype": "text/x-python",
   "name": "python",
   "nbconvert_exporter": "python",
   "pygments_lexer": "ipython3",
   "version": "3.9.6"
  },
  "vscode": {
   "interpreter": {
    "hash": "31f2aee4e71d21fbe5cf8b01ff0e069b9275f58929596ceb00d14d90e3e16cd6"
   }
  }
 },
 "nbformat": 4,
 "nbformat_minor": 5
}
