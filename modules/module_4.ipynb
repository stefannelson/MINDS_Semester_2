{
 "cells": [
  {
   "cell_type": "markdown",
   "id": "0531f94d-f6e7-4b10-9fd2-410c649c66da",
   "metadata": {},
   "source": [
    "# Module 4: Introduction to Git/Github"
   ]
  },
  {
   "cell_type": "markdown",
   "id": "a3654b29",
   "metadata": {},
   "source": [
    "In the weeks that we have spent learning Python and now SQL, we have been creating a *stack* of tools that we can bring to a job. SQL allows us to query data from a database, and Python scripts allow us to transform and perform analyses on data. These skills/tools are incredibly powerful, but when writing code for a job that needs to be used and improved for years to come, some issues begin to pop up:\n",
    "1. What happens if you are adding something in your code, something goes wrong, and you need to go back to a previous version?\n",
    "2. What happens if you if you are working on a big project with other programmers? How do you collaborate?\n",
    "\n",
    "You could have a system where you send files back and forth with each other, but 1) you are always waiting for someone's else's work and 2) after even a couple of days, there would be *so many files*, from `Final.doc` to `Final_rev2_with_comments_and_new_corrections.doc`. As a result, people who develop software have relyed on **version control** systems, the most popular of which is `git`.\n",
    "\n",
    "In a nutshell, git is behind-the-scenes software creating a timeline of which files in a folder were changed, by who, when, and what changed. These pieces of information form a **commit**, each of which can be reverted back to. Let's try it out! "
   ]
  },
  {
   "cell_type": "markdown",
   "id": "00c2c658-e4be-42bd-af69-130b5fc0dd92",
   "metadata": {},
   "source": [
    "First, let's download Github Desktop here: https://desktop.github.com/\n",
    "\n",
    "Then, walk through the steps to create an account (any choice of settings works here, although you should have easy access to the email you connect your account to).\n",
    "\n",
    "\n"
   ]
  },
  {
   "cell_type": "markdown",
   "id": "a9107a30",
   "metadata": {},
   "source": [
    "## Repositories"
   ]
  },
  {
   "cell_type": "markdown",
   "id": "59c56356",
   "metadata": {},
   "source": [
    "Github is built on **repositories**, which for our purposes is just a folder with git enabled on it. Let's make one first - you may see an option to create a tutorial repository, but we will create an empty repository instead. \n",
    "1. Go to File -> New Repository. \n",
    "2. Enter a name and a desciption (for example, \"Test repository for the UVA MINDS Program\"). \n",
    "3. Under \"Local Path\" click the \"Choose\" button. Navigate to somewhere on your computer that's easy to remember, such as your Desktop. \n",
    "4. Click the button \"Initialize this repository with a README\"\n",
    "5. Click \"Create Repository.\"\n",
    "\n",
    "Great! This will create a folder that's all set to be used with Github. That said, if you were to log on to Github right now, the folder wouldn't be there. That's okay, we haven't \"pushed\" any changes up there yet. To do that, we need some changes to push!"
   ]
  },
  {
   "cell_type": "markdown",
   "id": "4b38d622",
   "metadata": {},
   "source": [
    "## Committing and Pushing Changes"
   ]
  },
  {
   "cell_type": "markdown",
   "id": "e1148827",
   "metadata": {},
   "source": [
    "Let's add some stuff! In Jupyterlab or another editor of your choice, find and enter your repository using the navigation menu on the left side of the screen. You should see one file as of now - `README.md`. This is a text file, much like a `.txt` or `.csv` file, used to describe the code inside a repository. Double click on the file name to open it up. It should have something of the form `# <repository name>` (the hashtag in the *Markdown* language signifies a title - it's how we get larger text in these notebooks too!). \n",
    "\n",
    "1. Write some text underneath that line.\n",
    "2. Save the file.\n",
    "3. Go back to Github Desktop\n",
    "\n",
    "Back in Github Desktop, you should now see a lot more on the screen! This application tracks the files in your repository and tells you what was changed and where. It should now have that in `README.md`, at least one line was added (highlighted in green) that contains your changes. If you deleted any lines, these will be highlighted in red instead.\n",
    "\n",
    "Now that there are some file changes, let's commit them! In the lower right hand corner of the screen, There is a button \"Commit to **main**\". **Don't click this yet!** Since this is a timeline of what changed in the code, we should at least fill out the commit title (right now reading \"Update README.md\" near your user icon). This will be a label used to identify when things changed when we go back through the history later. \n",
    "1. Change the commit title\n",
    "2. Put a description if you'd like (not required)\n",
    "3. Hit the commit button.\n",
    "\n",
    "Congrats, you made your first commit! However, these changes are still only on your home computer. To get them backed up onto Github, we will need to **Publish** them.\n",
    "\n",
    "1. Near the center of the window, a new blue button should have appeared - \"Publish to Github\". Inside there, click on \"Publish to Repository.\"\n",
    "    - Alternatively, you can go to the upper right hand corner button that says \"Publish Repository.\"\n",
    "2. In the new window that opens up, keep the same title and description (although you can certainly change them), but click \"Keep this code private\" to **off**.\n",
    "3. Click \"Publish Repository\"\n",
    "\n",
    "Great job! You made a point in the timeline of your code."
   ]
  },
  {
   "cell_type": "markdown",
   "id": "e9f8dca2",
   "metadata": {},
   "source": [
    "## History of the Repository"
   ]
  },
  {
   "cell_type": "markdown",
   "id": "83ff4a24",
   "metadata": {},
   "source": [
    "Now that everything is published onto Github, let's take a step back and look at what we committed. Back in Github Desktop in the upper left hand corner, we can click from the \"Changes\" tab to the \"History\" tab. Here, we can see the entire timeline of commits. It's a pretty short list right now, but you can see a slightly more filled out example below:\n",
    "\n",
    "![](https://desktop.github.com/images/github-desktop-screenshot-windows.png)"
   ]
  },
  {
   "cell_type": "markdown",
   "id": "c8809756",
   "metadata": {},
   "source": [
    "The image above has a weird string in it: `c79e71c`. This is the **unique identifier**, which allows for single string that represents the entire commit. Using these, we can reference commits to not only search, but to also revert back to a previous state of the code. If you are working on some code and something breaks, you can effectively use that ID as a reset button. We won't do that here, but it's super handy to know!"
   ]
  },
  {
   "cell_type": "markdown",
   "id": "eb7f3311",
   "metadata": {},
   "source": [
    "## Branching and Merging the Timeline"
   ]
  },
  {
   "cell_type": "markdown",
   "id": "8d925073",
   "metadata": {},
   "source": [
    "Finally, we come to the main event - it's helpful to back up your code and create a timeline of changes, but what's the point? \n",
    "\n",
    "Github and git as a whole allow for an organized way to collaborate with others on code. The biggest pieces of software in the world use version controls systems like git for this very reason. So how does this work? If we were to allow commits to come from anyone, how could we handle if someone started on a different version of the code than someone else? What about if the same line is edited differently by two people? It can get very messy very quickly.\n",
    "\n",
    "This is where branching timelines come in. If you made a copy of the main timeline, you can make all the changes you would like without consequence. You can experiement with new features, fix bugs and test if those fixes broke something else, and so much more. When your changes are ready to go into the main timeline, you can simply merge the timelines!\n",
    "\n",
    "Github allows for two types of branches depending on the circumstances: Branches and forks.\n",
    "1. Branches are directly connected to the main repository. \n",
    "2. Forks are full copies of the timeline that are separate from the main repository on Github except for a link.\n",
    "\n",
    "Branches require you to manually add users, so use those only if you know who your team is going to be. If you are contributing to someone else's repository that you don't know, use a fork. \n",
    "\n",
    "In either case, the end goal is the same - merging a commit (or multiple commits) back to the main timeline. There are still possibilities for things to go wrong, known as **code conflicts**, so Github uses a form known as a **pull request** to ping the other project members about the new code. In Github, this is a new webpage where there's a handy view of the changes made, whether or not code conflicts were detected, and a dicussion board in case any more changes are needed. We will make one of these in Assignment 4."
   ]
  },
  {
   "cell_type": "markdown",
   "id": "69d0d9a5",
   "metadata": {},
   "source": [
    "Whew, that's a lot of information! This is definitely not easy, but version control systems like Github are incredibly common in a job setting. Knowing the internals of how they work will be beneficial in a data or software role.\n"
   ]
  },
  {
   "cell_type": "markdown",
   "id": "037745df",
   "metadata": {},
   "source": []
  }
 ],
 "metadata": {
  "kernelspec": {
   "display_name": "Python 3.9.6 64-bit",
   "language": "python",
   "name": "python3"
  },
  "language_info": {
   "codemirror_mode": {
    "name": "ipython",
    "version": 3
   },
   "file_extension": ".py",
   "mimetype": "text/x-python",
   "name": "python",
   "nbconvert_exporter": "python",
   "pygments_lexer": "ipython3",
   "version": "3.9.6"
  },
  "vscode": {
   "interpreter": {
    "hash": "31f2aee4e71d21fbe5cf8b01ff0e069b9275f58929596ceb00d14d90e3e16cd6"
   }
  }
 },
 "nbformat": 4,
 "nbformat_minor": 5
}
