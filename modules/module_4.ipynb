{
 "cells": [
  {
   "cell_type": "markdown",
   "id": "0531f94d-f6e7-4b10-9fd2-410c649c66da",
   "metadata": {},
   "source": [
    "# Module 4: Introduction to Git/Github"
   ]
  },
  {
   "cell_type": "code",
   "execution_count": null,
   "id": "00c2c658-e4be-42bd-af69-130b5fc0dd92",
   "metadata": {},
   "outputs": [],
   "source": []
  }
 ],
 "metadata": {
  "kernelspec": {
   "display_name": "Python 3",
   "language": "python",
   "name": "python3"
  },
  "language_info": {
   "codemirror_mode": {
    "name": "ipython",
    "version": 3
   },
   "file_extension": ".py",
   "mimetype": "text/x-python",
   "name": "python",
   "nbconvert_exporter": "python",
   "pygments_lexer": "ipython3",
   "version": "3.8.8"
  }
 },
 "nbformat": 4,
 "nbformat_minor": 5
}
