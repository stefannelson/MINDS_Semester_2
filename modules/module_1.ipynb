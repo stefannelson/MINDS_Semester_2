{
 "cells": [
  {
   "cell_type": "markdown",
   "id": "26a2d0f7-ae1e-4ddf-bbdb-724b70f6b4e2",
   "metadata": {},
   "source": [
    "# Module 1: Regularization and Linear Regression Review"
   ]
  },
  {
   "cell_type": "code",
   "execution_count": null,
   "id": "acc4155d-bfe1-4c4a-9836-d932a628c120",
   "metadata": {},
   "outputs": [],
   "source": []
  }
 ],
 "metadata": {
  "kernelspec": {
   "display_name": "Python 3",
   "language": "python",
   "name": "python3"
  },
  "language_info": {
   "codemirror_mode": {
    "name": "ipython",
    "version": 3
   },
   "file_extension": ".py",
   "mimetype": "text/x-python",
   "name": "python",
   "nbconvert_exporter": "python",
   "pygments_lexer": "ipython3",
   "version": "3.8.8"
  }
 },
 "nbformat": 4,
 "nbformat_minor": 5
}
